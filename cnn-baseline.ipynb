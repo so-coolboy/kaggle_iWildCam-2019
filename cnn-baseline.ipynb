{
 "cells": [
  {
   "cell_type": "code",
   "execution_count": 1,
   "metadata": {
    "_cell_guid": "b1076dfc-b9ad-4769-8c92-a6c4dae69d19",
    "_uuid": "8f2839f25d086af736a60e9eeb907d3b93b6e0e5"
   },
   "outputs": [
    {
     "name": "stderr",
     "output_type": "stream",
     "text": [
      "Using TensorFlow backend.\n"
     ]
    }
   ],
   "source": [
    "import os\n",
    "import json\n",
    "\n",
    "import numpy as np\n",
    "import pandas as pd\n",
    "import keras\n",
    "from keras.callbacks import Callback\n",
    "from keras.datasets import cifar10\n",
    "from keras.preprocessing.image import ImageDataGenerator\n",
    "from keras.models import Sequential\n",
    "from keras.layers import Dense, Dropout, Activation, Flatten\n",
    "from keras.layers import Conv2D, MaxPooling2D\n",
    "from sklearn.metrics import confusion_matrix, f1_score, precision_score, recall_score\n",
    "from sklearn.model_selection import train_test_split"
   ]
  },
  {
   "cell_type": "code",
   "execution_count": 2,
   "metadata": {
    "_uuid": "8595f283fb90558f10bb93489016e826dc4a6544"
   },
   "outputs": [
    {
     "data": {
      "text/plain": [
       "['iwildcam-2019-fgvc6', 'reducing-image-sizes-to-32x32']"
      ]
     },
     "execution_count": 2,
     "metadata": {},
     "output_type": "execute_result"
    }
   ],
   "source": [
    "os.listdir('../input')"
   ]
  },
  {
   "cell_type": "markdown",
   "metadata": {
    "_uuid": "2302da2f218e50185e00059bfac60f1fca7d15e8"
   },
   "source": [
    "## 1. Loading the 32x32 dataset"
   ]
  },
  {
   "cell_type": "code",
   "execution_count": 3,
   "metadata": {
    "_uuid": "09ba8de2a6a103f86f51b9df4641013b335fdc78"
   },
   "outputs": [
    {
     "name": "stdout",
     "output_type": "stream",
     "text": [
      "x_train shape: (196299, 32, 32, 3)\n",
      "196299 train samples\n",
      "153730 test samples\n"
     ]
    }
   ],
   "source": [
    "# The data, split between train and test sets:\n",
    "x_train = np.load('../input/reducing-image-sizes-to-32x32/X_train.npy')\n",
    "x_test = np.load('../input/reducing-image-sizes-to-32x32/X_test.npy')\n",
    "y_train = np.load('../input/reducing-image-sizes-to-32x32/y_train.npy')\n",
    "\n",
    "print('x_train shape:', x_train.shape)\n",
    "print(x_train.shape[0], 'train samples')\n",
    "print(x_test.shape[0], 'test samples')"
   ]
  },
  {
   "cell_type": "code",
   "execution_count": 4,
   "metadata": {
    "_uuid": "98bcca14dbabfc710c45993990bbd6881c89923f"
   },
   "outputs": [],
   "source": [
    "# Convert the images to float and scale it to a range of 0 to 1\n",
    "x_train = x_train.astype('float32')\n",
    "x_test = x_test.astype('float32')\n",
    "x_train /= 255.\n",
    "x_test /= 255."
   ]
  },
  {
   "cell_type": "markdown",
   "metadata": {
    "_uuid": "a1b0ee5c2a6cf83e9a46d819cf6b83e9681a3b27"
   },
   "source": [
    "## 2. Create Callback for F1 score"
   ]
  },
  {
   "cell_type": "code",
   "execution_count": 5,
   "metadata": {
    "_uuid": "53289edcced35cb632b33c92431e0c69bfa70c53"
   },
   "outputs": [],
   "source": [
    "class Metrics(Callback):\n",
    "    def on_train_begin(self, logs={}):\n",
    "        self.val_f1s = []\n",
    "        self.val_recalls = []\n",
    "        self.val_precisions = []\n",
    "\n",
    "    def on_epoch_end(self, epoch, logs={}):\n",
    "        X_val, y_val = self.validation_data[:2]\n",
    "        y_pred = self.model.predict(X_val)\n",
    "\n",
    "        y_pred_cat = keras.utils.to_categorical(\n",
    "            y_pred.argmax(axis=1),\n",
    "            num_classes=num_classes\n",
    "        )\n",
    "\n",
    "        _val_f1 = f1_score(y_val, y_pred_cat, average='macro')\n",
    "        _val_recall = recall_score(y_val, y_pred_cat, average='macro')\n",
    "        _val_precision = precision_score(y_val, y_pred_cat, average='macro')\n",
    "\n",
    "        self.val_f1s.append(_val_f1)\n",
    "        self.val_recalls.append(_val_recall)\n",
    "        self.val_precisions.append(_val_precision)\n",
    "\n",
    "        print((f\"val_f1: {_val_f1:.4f}\"\n",
    "               f\" — val_precision: {_val_precision:.4f}\"\n",
    "               f\" — val_recall: {_val_recall:.4f}\"))\n",
    "\n",
    "        return"
   ]
  },
  {
   "cell_type": "markdown",
   "metadata": {
    "_uuid": "2bee5c9cd1102701aa9d937d52a9c06613e2a684"
   },
   "source": [
    "## 3. Creating and Training the Model"
   ]
  },
  {
   "cell_type": "code",
   "execution_count": 6,
   "metadata": {
    "_uuid": "3a4c15bf29543994a48a85f46de1234bbc22e7c8"
   },
   "outputs": [],
   "source": [
    "batch_size = 64\n",
    "num_classes = 14\n",
    "epochs = 30\n",
    "val_split = 0.1\n",
    "save_dir = os.path.join(os.getcwd(), 'models')\n",
    "model_name = 'keras_cnn_model.h5'"
   ]
  },
  {
   "cell_type": "code",
   "execution_count": 7,
   "metadata": {
    "_uuid": "5ea3ca0451ab0a997111fea9ef2d1f762bc3d517"
   },
   "outputs": [
    {
     "name": "stdout",
     "output_type": "stream",
     "text": [
      "WARNING:tensorflow:From /opt/conda/lib/python3.6/site-packages/tensorflow/python/framework/op_def_library.py:263: colocate_with (from tensorflow.python.framework.ops) is deprecated and will be removed in a future version.\n",
      "Instructions for updating:\n",
      "Colocations handled automatically by placer.\n",
      "WARNING:tensorflow:From /opt/conda/lib/python3.6/site-packages/keras/backend/tensorflow_backend.py:3445: calling dropout (from tensorflow.python.ops.nn_ops) with keep_prob is deprecated and will be removed in a future version.\n",
      "Instructions for updating:\n",
      "Please use `rate` instead of `keep_prob`. Rate should be set to `rate = 1 - keep_prob`.\n"
     ]
    }
   ],
   "source": [
    "model = Sequential()\n",
    "model.add(Conv2D(32, (3, 3), padding='same',\n",
    "                 input_shape=x_train.shape[1:]))\n",
    "model.add(Activation('relu'))\n",
    "model.add(Conv2D(32, (3, 3)))\n",
    "model.add(Activation('relu'))\n",
    "model.add(MaxPooling2D(pool_size=(2, 2)))\n",
    "model.add(Dropout(0.25))\n",
    "\n",
    "model.add(Conv2D(64, (3, 3), padding='same'))\n",
    "model.add(Activation('relu'))\n",
    "model.add(Conv2D(64, (3, 3)))\n",
    "model.add(Activation('relu'))\n",
    "model.add(MaxPooling2D(pool_size=(2, 2)))\n",
    "model.add(Dropout(0.25))\n",
    "\n",
    "model.add(Flatten())\n",
    "model.add(Dense(512))\n",
    "model.add(Activation('relu'))\n",
    "model.add(Dropout(0.5))\n",
    "model.add(Dense(num_classes))\n",
    "model.add(Activation('softmax'))"
   ]
  },
  {
   "cell_type": "code",
   "execution_count": 8,
   "metadata": {
    "_uuid": "221a5db16b6f78ce3b3ac108db36f87043a67f2b",
    "scrolled": false
   },
   "outputs": [
    {
     "name": "stdout",
     "output_type": "stream",
     "text": [
      "WARNING:tensorflow:From /opt/conda/lib/python3.6/site-packages/tensorflow/python/ops/math_ops.py:3066: to_int32 (from tensorflow.python.ops.math_ops) is deprecated and will be removed in a future version.\n",
      "Instructions for updating:\n",
      "Use tf.cast instead.\n",
      "Train on 176669 samples, validate on 19630 samples\n",
      "Epoch 1/30\n",
      "176669/176669 [==============================] - 22s 127us/step - loss: 0.7001 - acc: 0.7812 - val_loss: 0.4952 - val_acc: 0.8401\n",
      "val_f1: 0.5076 — val_precision: 0.5960 — val_recall: 0.4880\n",
      "Epoch 2/30\n",
      "  1088/176669 [..............................] - ETA: 19s - loss: 0.5757 - acc: 0.8088"
     ]
    },
    {
     "name": "stderr",
     "output_type": "stream",
     "text": [
      "/opt/conda/lib/python3.6/site-packages/sklearn/metrics/classification.py:1143: UndefinedMetricWarning: F-score is ill-defined and being set to 0.0 in labels with no predicted samples.\n",
      "  'precision', 'predicted', average, warn_for)\n",
      "/opt/conda/lib/python3.6/site-packages/sklearn/metrics/classification.py:1143: UndefinedMetricWarning: Precision is ill-defined and being set to 0.0 in labels with no predicted samples.\n",
      "  'precision', 'predicted', average, warn_for)\n"
     ]
    },
    {
     "name": "stdout",
     "output_type": "stream",
     "text": [
      "176669/176669 [==============================] - 19s 107us/step - loss: 0.5119 - acc: 0.8338 - val_loss: 0.4132 - val_acc: 0.8644\n",
      "val_f1: 0.6642 — val_precision: 0.7157 — val_recall: 0.6483\n",
      "Epoch 3/30\n",
      "176669/176669 [==============================] - 19s 107us/step - loss: 0.4536 - acc: 0.8519 - val_loss: 0.3732 - val_acc: 0.8796\n",
      "val_f1: 0.7083 — val_precision: 0.7431 — val_recall: 0.7002\n",
      "Epoch 4/30\n",
      "176669/176669 [==============================] - 19s 107us/step - loss: 0.4148 - acc: 0.8626 - val_loss: 0.3556 - val_acc: 0.8835\n",
      "val_f1: 0.7184 — val_precision: 0.7593 — val_recall: 0.6998\n",
      "Epoch 5/30\n",
      "176669/176669 [==============================] - 19s 108us/step - loss: 0.3918 - acc: 0.8703 - val_loss: 0.3272 - val_acc: 0.8915\n",
      "val_f1: 0.7432 — val_precision: 0.7795 — val_recall: 0.7286\n",
      "Epoch 6/30\n",
      "176669/176669 [==============================] - 19s 106us/step - loss: 0.3747 - acc: 0.8745 - val_loss: 0.3086 - val_acc: 0.8981\n",
      "val_f1: 0.7401 — val_precision: 0.7884 — val_recall: 0.7169\n",
      "Epoch 7/30\n",
      "176669/176669 [==============================] - 19s 108us/step - loss: 0.3575 - acc: 0.8801 - val_loss: 0.2993 - val_acc: 0.9008\n",
      "val_f1: 0.7653 — val_precision: 0.7915 — val_recall: 0.7505\n",
      "Epoch 8/30\n",
      "176669/176669 [==============================] - 19s 109us/step - loss: 0.3457 - acc: 0.8841 - val_loss: 0.2907 - val_acc: 0.9031\n",
      "val_f1: 0.7720 — val_precision: 0.7921 — val_recall: 0.7631\n",
      "Epoch 9/30\n",
      "176669/176669 [==============================] - 19s 108us/step - loss: 0.3350 - acc: 0.8864 - val_loss: 0.2810 - val_acc: 0.9073\n",
      "val_f1: 0.7763 — val_precision: 0.8061 — val_recall: 0.7616\n",
      "Epoch 10/30\n",
      "176669/176669 [==============================] - 19s 106us/step - loss: 0.3239 - acc: 0.8903 - val_loss: 0.2778 - val_acc: 0.9082\n",
      "val_f1: 0.7865 — val_precision: 0.8071 — val_recall: 0.7763\n",
      "Epoch 11/30\n",
      "176669/176669 [==============================] - 19s 107us/step - loss: 0.3185 - acc: 0.8923 - val_loss: 0.2760 - val_acc: 0.9101\n",
      "val_f1: 0.7884 — val_precision: 0.8164 — val_recall: 0.7730\n",
      "Epoch 12/30\n",
      "176669/176669 [==============================] - 19s 107us/step - loss: 0.3112 - acc: 0.8938 - val_loss: 0.2663 - val_acc: 0.9121\n",
      "val_f1: 0.7941 — val_precision: 0.8061 — val_recall: 0.7882\n",
      "Epoch 13/30\n",
      "176669/176669 [==============================] - 19s 108us/step - loss: 0.3040 - acc: 0.8965 - val_loss: 0.2619 - val_acc: 0.9136\n",
      "val_f1: 0.7961 — val_precision: 0.8192 — val_recall: 0.7820\n",
      "Epoch 14/30\n",
      "176669/176669 [==============================] - 19s 106us/step - loss: 0.3017 - acc: 0.8972 - val_loss: 0.2603 - val_acc: 0.9123\n",
      "val_f1: 0.7973 — val_precision: 0.8196 — val_recall: 0.7846\n",
      "Epoch 15/30\n",
      "176669/176669 [==============================] - 19s 106us/step - loss: 0.2967 - acc: 0.8990 - val_loss: 0.2542 - val_acc: 0.9135\n",
      "val_f1: 0.8011 — val_precision: 0.8327 — val_recall: 0.7853\n",
      "Epoch 16/30\n",
      "176669/176669 [==============================] - 19s 106us/step - loss: 0.2918 - acc: 0.8997 - val_loss: 0.2450 - val_acc: 0.9207\n",
      "val_f1: 0.8152 — val_precision: 0.8272 — val_recall: 0.8074\n",
      "Epoch 17/30\n",
      "176669/176669 [==============================] - 19s 109us/step - loss: 0.2868 - acc: 0.9022 - val_loss: 0.2418 - val_acc: 0.9195\n",
      "val_f1: 0.8100 — val_precision: 0.8307 — val_recall: 0.7985\n",
      "Epoch 18/30\n",
      " 26176/176669 [===>..........................] - ETA: 15s - loss: 0.2778 - acc: 0.9037"
     ]
    }
   ],
   "source": [
    "f1_metrics = Metrics()\n",
    "\n",
    "model.compile(\n",
    "    loss='categorical_crossentropy',\n",
    "    optimizer='adam',\n",
    "    metrics=['accuracy']\n",
    ")\n",
    "\n",
    "hist = model.fit(\n",
    "    x_train, \n",
    "    y_train,\n",
    "    batch_size=batch_size,\n",
    "    epochs=epochs,\n",
    "    callbacks=[f1_metrics],\n",
    "    validation_split=val_split,\n",
    "    shuffle=True\n",
    ")"
   ]
  },
  {
   "cell_type": "markdown",
   "metadata": {
    "_uuid": "e5544f73435319cd8ac16fbc8c0e3d6e2cbf7ede"
   },
   "source": [
    "Save model and weights"
   ]
  },
  {
   "cell_type": "code",
   "execution_count": 9,
   "metadata": {
    "_uuid": "66f66507c14a4b0b5ec40fb4989c05a3476ac2fe"
   },
   "outputs": [
    {
     "name": "stdout",
     "output_type": "stream",
     "text": [
      "Saved trained model at /kaggle/working/models/keras_cnn_model.h5 \n"
     ]
    }
   ],
   "source": [
    "if not os.path.isdir(save_dir):\n",
    "    os.makedirs(save_dir)\n",
    "model_path = os.path.join(save_dir, model_name)\n",
    "model.save(model_path)\n",
    "print('Saved trained model at %s ' % model_path)"
   ]
  },
  {
   "cell_type": "markdown",
   "metadata": {
    "_uuid": "1c1609efbe52b3834678586f3e527155e94861b5"
   },
   "source": [
    "## 4. Evaluation"
   ]
  },
  {
   "cell_type": "code",
   "execution_count": 10,
   "metadata": {
    "_uuid": "672356f3ada19735ba4624adf33b0b7a8d87bfe2"
   },
   "outputs": [
    {
     "data": {
      "text/plain": [
       "<matplotlib.axes._subplots.AxesSubplot at 0x7fc90027db00>"
      ]
     },
     "execution_count": 10,
     "metadata": {},
     "output_type": "execute_result"
    },
    {
     "data": {
      "image/png": "[encoded data removed]",
      "text/plain": [
       "<Figure size 432x288 with 1 Axes>"
      ]
     },
     "metadata": {},
     "output_type": "display_data"
    },
    {
     "data": {
      "image/png": "[encoded data removed]",
      "text/plain": [
       "<Figure size 432x288 with 1 Axes>"
      ]
     },
     "metadata": {},
     "output_type": "display_data"
    },
    {
     "data": {
      "image/png": "[encoded data removed]",
      "text/plain": [
       "<Figure size 432x288 with 1 Axes>"
      ]
     },
     "metadata": {},
     "output_type": "display_data"
    }
   ],
   "source": [
    "history_df = pd.DataFrame(hist.history)\n",
    "history_df['val_f1'] = f1_metrics.val_f1s\n",
    "history_df['val_precision'] = f1_metrics.val_precisions\n",
    "history_df['val_recall'] = f1_metrics.val_recalls\n",
    "\n",
    "history_df[['loss', 'val_loss']].plot()\n",
    "history_df[['acc', 'val_acc']].plot()\n",
    "history_df[['val_f1', 'val_precision', 'val_recall']].plot()"
   ]
  },
  {
   "cell_type": "markdown",
   "metadata": {
    "_uuid": "81ef9f687914e8c851fc990bc5672b56bb907998"
   },
   "source": [
    "## 5. Submission"
   ]
  },
  {
   "cell_type": "code",
   "execution_count": 11,
   "metadata": {
    "_uuid": "30b9113771fa2e8b109925df04f6cadc31acb00d"
   },
   "outputs": [
    {
     "name": "stdout",
     "output_type": "stream",
     "text": [
      "(153730, 2)\n"
     ]
    },
    {
     "data": {
      "text/html": [
       "<div>\n",
       "<style scoped>\n",
       "    .dataframe tbody tr th:only-of-type {\n",
       "        vertical-align: middle;\n",
       "    }\n",
       "\n",
       "    .dataframe tbody tr th {\n",
       "        vertical-align: top;\n",
       "    }\n",
       "\n",
       "    .dataframe thead th {\n",
       "        text-align: right;\n",
       "    }\n",
       "</style>\n",
       "<table border=\"1\" class=\"dataframe\">\n",
       "  <thead>\n",
       "    <tr style=\"text-align: right;\">\n",
       "      <th></th>\n",
       "      <th>Id</th>\n",
       "      <th>Predicted</th>\n",
       "    </tr>\n",
       "  </thead>\n",
       "  <tbody>\n",
       "    <tr>\n",
       "      <th>0</th>\n",
       "      <td>b005e5b2-2c0b-11e9-bcad-06f10d5896c4</td>\n",
       "      <td>0</td>\n",
       "    </tr>\n",
       "    <tr>\n",
       "      <th>1</th>\n",
       "      <td>f2347cfe-2c11-11e9-bcad-06f10d5896c4</td>\n",
       "      <td>1</td>\n",
       "    </tr>\n",
       "    <tr>\n",
       "      <th>2</th>\n",
       "      <td>27cf8d26-2c0e-11e9-bcad-06f10d5896c4</td>\n",
       "      <td>0</td>\n",
       "    </tr>\n",
       "    <tr>\n",
       "      <th>3</th>\n",
       "      <td>f82f52c7-2c1d-11e9-bcad-06f10d5896c4</td>\n",
       "      <td>0</td>\n",
       "    </tr>\n",
       "    <tr>\n",
       "      <th>4</th>\n",
       "      <td>e133f50d-2c1c-11e9-bcad-06f10d5896c4</td>\n",
       "      <td>0</td>\n",
       "    </tr>\n",
       "  </tbody>\n",
       "</table>\n",
       "</div>"
      ],
      "text/plain": [
       "                                     Id  Predicted\n",
       "0  b005e5b2-2c0b-11e9-bcad-06f10d5896c4          0\n",
       "1  f2347cfe-2c11-11e9-bcad-06f10d5896c4          1\n",
       "2  27cf8d26-2c0e-11e9-bcad-06f10d5896c4          0\n",
       "3  f82f52c7-2c1d-11e9-bcad-06f10d5896c4          0\n",
       "4  e133f50d-2c1c-11e9-bcad-06f10d5896c4          0"
      ]
     },
     "execution_count": 11,
     "metadata": {},
     "output_type": "execute_result"
    }
   ],
   "source": [
    "y_test = model.predict(x_test)\n",
    "\n",
    "submission_df = pd.read_csv('../input/iwildcam-2019-fgvc6/sample_submission.csv')\n",
    "submission_df['Predicted'] = y_test.argmax(axis=1)\n",
    "print(submission_df.shape)\n",
    "submission_df.head()"
   ]
  },
  {
   "cell_type": "code",
   "execution_count": 12,
   "metadata": {
    "_uuid": "40d47171db3c3628643982074335e12ab1be87b8"
   },
   "outputs": [],
   "source": [
    "submission_df.to_csv('submission.csv',index=False)\n",
    "history_df.to_csv('history.csv', index=False)\n",
    "\n",
    "with open('history.json', 'w') as f:\n",
    "    json.dump(hist.history, f)"
   ]
  }
 ],
 "metadata": {
  "kernelspec": {
   "display_name": "Python 3",
   "language": "python",
   "name": "python3"
  },
  "language_info": {
   "codemirror_mode": {
    "name": "ipython",
    "version": 3
   },
   "file_extension": ".py",
   "mimetype": "text/x-python",
   "name": "python",
   "nbconvert_exporter": "python",
   "pygments_lexer": "ipython3",
   "version": "3.6.6"
  }
 },
 "nbformat": 4,
 "nbformat_minor": 1
}
